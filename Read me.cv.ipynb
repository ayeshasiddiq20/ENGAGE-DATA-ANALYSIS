{
 "cells": [
  {
   "cell_type": "markdown",
   "id": "4cebccf4",
   "metadata": {},
   "source": [
    "#                         MICROSOFT ENGAGE-2022\n",
    "##                                          [DATA-ANALYSIS]"
   ]
  },
  {
   "cell_type": "markdown",
   "id": "00b02b03",
   "metadata": {},
   "source": [
    "I got a very beautiful data-set of cars from Kaggle. To give a piece of brief information about the data set this data contains more of 10, 000 rows and more than 10 columns which contains features of the car such as Engine Fuel Type, Engine Size, HP, Transmission Type, highway MPG, city MPG and many more.\n",
    "\n",
    "It is divided into 10 parts:\n",
    "\n",
    "1.Importing the required libraries \n",
    "\n",
    "\n",
    "\n"
   ]
  },
  {
   "cell_type": "markdown",
   "id": "49ad9a74",
   "metadata": {},
   "source": [
    "2 . Loading the data into the data frame.\n",
    "\n"
   ]
  },
  {
   "cell_type": "markdown",
   "id": "27ca0772",
   "metadata": {},
   "source": [
    "3 . Checking the types of data\n"
   ]
  },
  {
   "cell_type": "markdown",
   "id": "76e6faa2",
   "metadata": {},
   "source": [
    "4 . Dropping irrelevant columns\n"
   ]
  },
  {
   "cell_type": "markdown",
   "id": "be1dde89",
   "metadata": {},
   "source": [
    "5 . Renaming the columns\n"
   ]
  },
  {
   "cell_type": "markdown",
   "id": "ae1f096b",
   "metadata": {},
   "source": [
    "6 .Dropping the duplicate rows\n"
   ]
  },
  {
   "cell_type": "markdown",
   "id": "c8b7e2fb",
   "metadata": {},
   "source": [
    "7.Dropping the missing or null values.\n"
   ]
  },
  {
   "cell_type": "markdown",
   "id": "2d4b892b",
   "metadata": {},
   "source": [
    "8 .Detecting Outliers\n"
   ]
  },
  {
   "cell_type": "markdown",
   "id": "719b1b16",
   "metadata": {},
   "source": [
    "9 .Data Visualization\n"
   ]
  },
  {
   "cell_type": "markdown",
   "id": "f34bcce1",
   "metadata": {},
   "source": [
    "10 .Analyse and Answering Questions"
   ]
  },
  {
   "cell_type": "markdown",
   "id": "c640674a",
   "metadata": {},
   "source": [
    "## **Software & Libraries Used:-**"
   ]
  },
  {
   "cell_type": "markdown",
   "id": "9fa9f758",
   "metadata": {},
   "source": [
    "- Anaconda Distribution\n",
    "- Jupyter Notebook\n",
    "- Numpy\n",
    "- Pandas\n",
    "- Matplotlib\n",
    "- Seaborn\n",
    "- Django for UI"
   ]
  },
  {
   "cell_type": "markdown",
   "id": "7a559c4f",
   "metadata": {},
   "source": [
    "## **Importing the Modules :-**"
   ]
  },
  {
   "cell_type": "markdown",
   "id": "08abc9ce",
   "metadata": {},
   "source": [
    " import pandas as pd\n",
    " "
   ]
  },
  {
   "cell_type": "markdown",
   "id": "a5c1795d",
   "metadata": {},
   "source": [
    "\n",
    "  import numpy as np\n",
    " "
   ]
  },
  {
   "cell_type": "markdown",
   "id": "74c25a96",
   "metadata": {},
   "source": [
    " import matplotlib.pyplot as plt\n"
   ]
  },
  {
   "cell_type": "markdown",
   "id": "51c5d503",
   "metadata": {},
   "source": [
    "  import seaborn as sns"
   ]
  },
  {
   "cell_type": "markdown",
   "id": "a0dd30ca",
   "metadata": {},
   "source": [
    "##  Analysis :-"
   ]
  },
  {
   "cell_type": "markdown",
   "id": "f0ca9151",
   "metadata": {},
   "source": [
    "### 1.Histogram & Bargraphs"
   ]
  },
  {
   "cell_type": "markdown",
   "id": "e39ae2da",
   "metadata": {},
   "source": [
    "1.total number of car manufactured by a different company."
   ]
  },
  {
   "cell_type": "markdown",
   "id": "3ec53052",
   "metadata": {},
   "source": [
    "2.Top 10 manufacturers (number of cars produced)"
   ]
  },
  {
   "cell_type": "markdown",
   "id": "e7cc9a5b",
   "metadata": {},
   "source": [
    "3.Cars produced over the years"
   ]
  },
  {
   "cell_type": "markdown",
   "id": "11d6904c",
   "metadata": {},
   "source": [
    "4.Fuel types per Year [both bar plot and stack plot]"
   ]
  },
  {
   "cell_type": "markdown",
   "id": "cf7d0ea3",
   "metadata": {},
   "source": [
    "### 2. Plot-Methods"
   ]
  },
  {
   "cell_type": "markdown",
   "id": "a48ecb2e",
   "metadata": {},
   "source": [
    "1.Scatterplot"
   ]
  },
  {
   "cell_type": "markdown",
   "id": "713e7692",
   "metadata": {},
   "source": [
    "2.Violin-Plot"
   ]
  },
  {
   "cell_type": "markdown",
   "id": "2f064f2b",
   "metadata": {},
   "source": [
    "3.Cat-plot"
   ]
  },
  {
   "cell_type": "markdown",
   "id": "5ac0367c",
   "metadata": {},
   "source": [
    "4. Line-plot"
   ]
  },
  {
   "cell_type": "markdown",
   "id": "b3a763f0",
   "metadata": {},
   "source": [
    "### 3.Heat-Map"
   ]
  },
  {
   "cell_type": "markdown",
   "id": "bf8f87c2",
   "metadata": {},
   "source": [
    "## Analyse And Answer :-"
   ]
  },
  {
   "cell_type": "markdown",
   "id": "2d5bf6c3",
   "metadata": {},
   "source": [
    "Q1: Has use of diesel cars increased or decresed over the years?"
   ]
  },
  {
   "cell_type": "markdown",
   "id": "4c6e773a",
   "metadata": {},
   "source": [
    "Q2: Has production of SUVs increased over the years"
   ]
  },
  {
   "cell_type": "markdown",
   "id": "19a378de",
   "metadata": {},
   "source": [
    "Q3: Which brand is least popular and which one is most popular?"
   ]
  },
  {
   "cell_type": "markdown",
   "id": "5bcb00b5",
   "metadata": {},
   "source": [
    "## Conclusion :-"
   ]
  },
  {
   "cell_type": "markdown",
   "id": "b775dc61",
   "metadata": {},
   "source": [
    "1.Our analysis shows that Price of the car positively correlates with higher Engine specifications like more horsepower.\n"
   ]
  },
  {
   "cell_type": "markdown",
   "id": "d955dab1",
   "metadata": {},
   "source": [
    "2.Using the above conclusion we can also form a linear relationship between the variables to predict price of the car based on engine specifications.\n"
   ]
  },
  {
   "cell_type": "markdown",
   "id": "b70b49ea",
   "metadata": {},
   "source": [
    "3.The use of E85 fuel has gone up over the years as green initiatives have picked up the pace. More people prefer greener alternatives now.\n"
   ]
  },
  {
   "cell_type": "markdown",
   "id": "6cc1bb50",
   "metadata": {},
   "source": [
    "4.Production of SUVs increased rapidly in last few years.\n"
   ]
  },
  {
   "cell_type": "markdown",
   "id": "38d1f7e2",
   "metadata": {},
   "source": [
    "5.Ford is the most popular brand in the world but Chevrolet produced most cars."
   ]
  },
  {
   "cell_type": "code",
   "execution_count": null,
   "id": "165e077f",
   "metadata": {},
   "outputs": [],
   "source": []
  }
 ],
 "metadata": {
  "kernelspec": {
   "display_name": "Python 3",
   "language": "python",
   "name": "python3"
  },
  "language_info": {
   "codemirror_mode": {
    "name": "ipython",
    "version": 3
   },
   "file_extension": ".py",
   "mimetype": "text/x-python",
   "name": "python",
   "nbconvert_exporter": "python",
   "pygments_lexer": "ipython3",
   "version": "3.8.8"
  }
 },
 "nbformat": 4,
 "nbformat_minor": 5
}
